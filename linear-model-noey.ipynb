{
 "cells": [
  {
   "cell_type": "markdown",
   "id": "a828fcd2",
   "metadata": {
    "papermill": {
     "duration": 0.004889,
     "end_time": "2022-09-30T04:41:17.338706",
     "exception": false,
     "start_time": "2022-09-30T04:41:17.333817",
     "status": "completed"
    },
    "tags": []
   },
   "source": [
    "**This notebook is an exercise in the [Intro to Deep Learning](https://www.kaggle.com/learn/intro-to-deep-learning) course.  You can reference the tutorial at [this link](https://www.kaggle.com/ryanholbrook/a-single-neuron).**\n",
    "\n",
    "---\n"
   ]
  },
  {
   "cell_type": "markdown",
   "id": "faa9de2a",
   "metadata": {
    "papermill": {
     "duration": 0.004008,
     "end_time": "2022-09-30T04:41:17.346968",
     "exception": false,
     "start_time": "2022-09-30T04:41:17.342960",
     "status": "completed"
    },
    "tags": []
   },
   "source": [
    "# Introduction #\n",
    "\n",
    "In the tutorial we learned about the building blocks of neural networks: *linear units*. We saw that a model of just one linear unit will fit a linear function to a dataset (equivalent to linear regression). In this exercise, you'll build a linear model and get some practice working with models in Keras.\n",
    "\n",
    "Before you get started, run the code cell below to set everything up."
   ]
  },
  {
   "cell_type": "code",
   "execution_count": 1,
   "id": "d29a2620",
   "metadata": {
    "execution": {
     "iopub.execute_input": "2022-09-30T04:41:17.357917Z",
     "iopub.status.busy": "2022-09-30T04:41:17.357108Z",
     "iopub.status.idle": "2022-09-30T04:41:24.393233Z",
     "shell.execute_reply": "2022-09-30T04:41:24.391726Z"
    },
    "papermill": {
     "duration": 7.044861,
     "end_time": "2022-09-30T04:41:24.396215",
     "exception": false,
     "start_time": "2022-09-30T04:41:17.351354",
     "status": "completed"
    },
    "tags": []
   },
   "outputs": [],
   "source": [
    "# Setup plotting\n",
    "import matplotlib.pyplot as plt\n",
    "\n",
    "plt.style.use('seaborn-whitegrid')\n",
    "# Set Matplotlib defaults\n",
    "plt.rc('figure', autolayout=True)\n",
    "plt.rc('axes', labelweight='bold', labelsize='large',\n",
    "       titleweight='bold', titlesize=18, titlepad=10)\n",
    "\n",
    "# Setup feedback system\n",
    "from learntools.core import binder\n",
    "binder.bind(globals())\n",
    "from learntools.deep_learning_intro.ex1 import *"
   ]
  },
  {
   "cell_type": "markdown",
   "id": "1a1e7562",
   "metadata": {
    "papermill": {
     "duration": 0.004666,
     "end_time": "2022-09-30T04:41:24.405173",
     "exception": false,
     "start_time": "2022-09-30T04:41:24.400507",
     "status": "completed"
    },
    "tags": []
   },
   "source": [
    "The *Red Wine Quality* dataset consists of physiochemical measurements from about 1600 Portuguese red wines.  Also included is a quality rating for each wine from blind taste-tests. \n",
    "\n",
    "First, run the next cell to display the first few rows of this dataset."
   ]
  },
  {
   "cell_type": "code",
   "execution_count": 2,
   "id": "d877e9f3",
   "metadata": {
    "execution": {
     "iopub.execute_input": "2022-09-30T04:41:24.415587Z",
     "iopub.status.busy": "2022-09-30T04:41:24.414947Z",
     "iopub.status.idle": "2022-09-30T04:41:24.464211Z",
     "shell.execute_reply": "2022-09-30T04:41:24.462591Z"
    },
    "papermill": {
     "duration": 0.057178,
     "end_time": "2022-09-30T04:41:24.466665",
     "exception": false,
     "start_time": "2022-09-30T04:41:24.409487",
     "status": "completed"
    },
    "tags": []
   },
   "outputs": [
    {
     "data": {
      "text/html": [
       "<div>\n",
       "<style scoped>\n",
       "    .dataframe tbody tr th:only-of-type {\n",
       "        vertical-align: middle;\n",
       "    }\n",
       "\n",
       "    .dataframe tbody tr th {\n",
       "        vertical-align: top;\n",
       "    }\n",
       "\n",
       "    .dataframe thead th {\n",
       "        text-align: right;\n",
       "    }\n",
       "</style>\n",
       "<table border=\"1\" class=\"dataframe\">\n",
       "  <thead>\n",
       "    <tr style=\"text-align: right;\">\n",
       "      <th></th>\n",
       "      <th>fixed acidity</th>\n",
       "      <th>volatile acidity</th>\n",
       "      <th>citric acid</th>\n",
       "      <th>residual sugar</th>\n",
       "      <th>chlorides</th>\n",
       "      <th>free sulfur dioxide</th>\n",
       "      <th>total sulfur dioxide</th>\n",
       "      <th>density</th>\n",
       "      <th>pH</th>\n",
       "      <th>sulphates</th>\n",
       "      <th>alcohol</th>\n",
       "      <th>quality</th>\n",
       "    </tr>\n",
       "  </thead>\n",
       "  <tbody>\n",
       "    <tr>\n",
       "      <th>0</th>\n",
       "      <td>7.4</td>\n",
       "      <td>0.70</td>\n",
       "      <td>0.00</td>\n",
       "      <td>1.9</td>\n",
       "      <td>0.076</td>\n",
       "      <td>11.0</td>\n",
       "      <td>34.0</td>\n",
       "      <td>0.9978</td>\n",
       "      <td>3.51</td>\n",
       "      <td>0.56</td>\n",
       "      <td>9.4</td>\n",
       "      <td>5</td>\n",
       "    </tr>\n",
       "    <tr>\n",
       "      <th>1</th>\n",
       "      <td>7.8</td>\n",
       "      <td>0.88</td>\n",
       "      <td>0.00</td>\n",
       "      <td>2.6</td>\n",
       "      <td>0.098</td>\n",
       "      <td>25.0</td>\n",
       "      <td>67.0</td>\n",
       "      <td>0.9968</td>\n",
       "      <td>3.20</td>\n",
       "      <td>0.68</td>\n",
       "      <td>9.8</td>\n",
       "      <td>5</td>\n",
       "    </tr>\n",
       "    <tr>\n",
       "      <th>2</th>\n",
       "      <td>7.8</td>\n",
       "      <td>0.76</td>\n",
       "      <td>0.04</td>\n",
       "      <td>2.3</td>\n",
       "      <td>0.092</td>\n",
       "      <td>15.0</td>\n",
       "      <td>54.0</td>\n",
       "      <td>0.9970</td>\n",
       "      <td>3.26</td>\n",
       "      <td>0.65</td>\n",
       "      <td>9.8</td>\n",
       "      <td>5</td>\n",
       "    </tr>\n",
       "    <tr>\n",
       "      <th>3</th>\n",
       "      <td>11.2</td>\n",
       "      <td>0.28</td>\n",
       "      <td>0.56</td>\n",
       "      <td>1.9</td>\n",
       "      <td>0.075</td>\n",
       "      <td>17.0</td>\n",
       "      <td>60.0</td>\n",
       "      <td>0.9980</td>\n",
       "      <td>3.16</td>\n",
       "      <td>0.58</td>\n",
       "      <td>9.8</td>\n",
       "      <td>6</td>\n",
       "    </tr>\n",
       "    <tr>\n",
       "      <th>4</th>\n",
       "      <td>7.4</td>\n",
       "      <td>0.70</td>\n",
       "      <td>0.00</td>\n",
       "      <td>1.9</td>\n",
       "      <td>0.076</td>\n",
       "      <td>11.0</td>\n",
       "      <td>34.0</td>\n",
       "      <td>0.9978</td>\n",
       "      <td>3.51</td>\n",
       "      <td>0.56</td>\n",
       "      <td>9.4</td>\n",
       "      <td>5</td>\n",
       "    </tr>\n",
       "  </tbody>\n",
       "</table>\n",
       "</div>"
      ],
      "text/plain": [
       "   fixed acidity  volatile acidity  citric acid  residual sugar  chlorides  \\\n",
       "0            7.4              0.70         0.00             1.9      0.076   \n",
       "1            7.8              0.88         0.00             2.6      0.098   \n",
       "2            7.8              0.76         0.04             2.3      0.092   \n",
       "3           11.2              0.28         0.56             1.9      0.075   \n",
       "4            7.4              0.70         0.00             1.9      0.076   \n",
       "\n",
       "   free sulfur dioxide  total sulfur dioxide  density    pH  sulphates  \\\n",
       "0                 11.0                  34.0   0.9978  3.51       0.56   \n",
       "1                 25.0                  67.0   0.9968  3.20       0.68   \n",
       "2                 15.0                  54.0   0.9970  3.26       0.65   \n",
       "3                 17.0                  60.0   0.9980  3.16       0.58   \n",
       "4                 11.0                  34.0   0.9978  3.51       0.56   \n",
       "\n",
       "   alcohol  quality  \n",
       "0      9.4        5  \n",
       "1      9.8        5  \n",
       "2      9.8        5  \n",
       "3      9.8        6  \n",
       "4      9.4        5  "
      ]
     },
     "execution_count": 2,
     "metadata": {},
     "output_type": "execute_result"
    }
   ],
   "source": [
    "import pandas as pd\n",
    "\n",
    "red_wine = pd.read_csv('../input/dl-course-data/red-wine.csv')\n",
    "red_wine.head()"
   ]
  },
  {
   "cell_type": "markdown",
   "id": "1913f2d5",
   "metadata": {
    "papermill": {
     "duration": 0.004087,
     "end_time": "2022-09-30T04:41:24.475386",
     "exception": false,
     "start_time": "2022-09-30T04:41:24.471299",
     "status": "completed"
    },
    "tags": []
   },
   "source": [
    "You can get the number of rows and columns of a dataframe (or a Numpy array) with the `shape` attribute."
   ]
  },
  {
   "cell_type": "code",
   "execution_count": 3,
   "id": "e80d24aa",
   "metadata": {
    "execution": {
     "iopub.execute_input": "2022-09-30T04:41:24.485730Z",
     "iopub.status.busy": "2022-09-30T04:41:24.485400Z",
     "iopub.status.idle": "2022-09-30T04:41:24.492336Z",
     "shell.execute_reply": "2022-09-30T04:41:24.490627Z"
    },
    "papermill": {
     "duration": 0.014764,
     "end_time": "2022-09-30T04:41:24.494525",
     "exception": false,
     "start_time": "2022-09-30T04:41:24.479761",
     "status": "completed"
    },
    "tags": []
   },
   "outputs": [
    {
     "data": {
      "text/plain": [
       "(1599, 12)"
      ]
     },
     "execution_count": 3,
     "metadata": {},
     "output_type": "execute_result"
    }
   ],
   "source": [
    "red_wine.shape # (1, 1)"
   ]
  },
  {
   "cell_type": "markdown",
   "id": "f91caa7e",
   "metadata": {
    "papermill": {
     "duration": 0.004369,
     "end_time": "2022-09-30T04:41:24.503669",
     "exception": false,
     "start_time": "2022-09-30T04:41:24.499300",
     "status": "completed"
    },
    "tags": []
   },
   "source": [
    "# 1) Input shape #\n",
    "\n",
    "How well can we predict a wine's perceived quality from the physiochemical measurements?  \n",
    "\n",
    "The target is `'quality'`, and the remaining columns are the features.  How would you set the `input_shape` parameter for a Keras model on this task?"
   ]
  },
  {
   "cell_type": "code",
   "execution_count": 4,
   "id": "404cf15f",
   "metadata": {
    "execution": {
     "iopub.execute_input": "2022-09-30T04:41:24.514378Z",
     "iopub.status.busy": "2022-09-30T04:41:24.513790Z",
     "iopub.status.idle": "2022-09-30T04:41:24.523296Z",
     "shell.execute_reply": "2022-09-30T04:41:24.522122Z"
    },
    "lines_to_next_cell": 0,
    "papermill": {
     "duration": 0.017512,
     "end_time": "2022-09-30T04:41:24.525650",
     "exception": false,
     "start_time": "2022-09-30T04:41:24.508138",
     "status": "completed"
    },
    "tags": []
   },
   "outputs": [
    {
     "data": {
      "application/javascript": [
       "parent.postMessage({\"jupyterEvent\": \"custom.exercise_interaction\", \"data\": {\"outcomeType\": 1, \"valueTowardsCompletion\": 0.3333333333333333, \"interactionType\": 1, \"questionType\": 2, \"questionId\": \"1_Q1\", \"learnToolsVersion\": \"0.3.4\", \"failureMessage\": \"\", \"exceptionClass\": \"\", \"trace\": \"\"}}, \"*\")"
      ],
      "text/plain": [
       "<IPython.core.display.Javascript object>"
      ]
     },
     "metadata": {},
     "output_type": "display_data"
    },
    {
     "data": {
      "text/markdown": [
       "<span style=\"color:#33cc33\">Correct</span>"
      ],
      "text/plain": [
       "Correct"
      ]
     },
     "metadata": {},
     "output_type": "display_data"
    }
   ],
   "source": [
    "# YOUR CODE HERE\n",
    "input_shape = [11]\n",
    "\n",
    "# Check your answer\n",
    "q_1.check()"
   ]
  },
  {
   "cell_type": "code",
   "execution_count": 5,
   "id": "e8b51408",
   "metadata": {
    "execution": {
     "iopub.execute_input": "2022-09-30T04:41:24.537304Z",
     "iopub.status.busy": "2022-09-30T04:41:24.536647Z",
     "iopub.status.idle": "2022-09-30T04:41:24.541930Z",
     "shell.execute_reply": "2022-09-30T04:41:24.540544Z"
    },
    "papermill": {
     "duration": 0.013631,
     "end_time": "2022-09-30T04:41:24.544381",
     "exception": false,
     "start_time": "2022-09-30T04:41:24.530750",
     "status": "completed"
    },
    "tags": []
   },
   "outputs": [],
   "source": [
    "# Lines below will give you a hint or solution code\n",
    "#q_1.hint()\n",
    "#q_1.solution()"
   ]
  },
  {
   "cell_type": "markdown",
   "id": "5e0c4a84",
   "metadata": {
    "papermill": {
     "duration": 0.00436,
     "end_time": "2022-09-30T04:41:24.553543",
     "exception": false,
     "start_time": "2022-09-30T04:41:24.549183",
     "status": "completed"
    },
    "tags": []
   },
   "source": [
    "# 2) Define a linear model\n",
    "\n",
    "Now define a linear model appropriate for this task. Pay attention to how many inputs and outputs the model should have."
   ]
  },
  {
   "cell_type": "code",
   "execution_count": 6,
   "id": "2a06d110",
   "metadata": {
    "execution": {
     "iopub.execute_input": "2022-09-30T04:41:24.564562Z",
     "iopub.status.busy": "2022-09-30T04:41:24.564143Z",
     "iopub.status.idle": "2022-09-30T04:41:25.743873Z",
     "shell.execute_reply": "2022-09-30T04:41:25.742577Z"
    },
    "lines_to_next_cell": 0,
    "papermill": {
     "duration": 1.187497,
     "end_time": "2022-09-30T04:41:25.745759",
     "exception": false,
     "start_time": "2022-09-30T04:41:24.558262",
     "status": "completed"
    },
    "tags": []
   },
   "outputs": [
    {
     "name": "stderr",
     "output_type": "stream",
     "text": [
      "2022-09-30 04:41:25.663559: I tensorflow/core/common_runtime/process_util.cc:146] Creating new thread pool with default inter op setting: 2. Tune using inter_op_parallelism_threads for best performance.\n"
     ]
    },
    {
     "data": {
      "application/javascript": [
       "parent.postMessage({\"jupyterEvent\": \"custom.exercise_interaction\", \"data\": {\"outcomeType\": 1, \"valueTowardsCompletion\": 0.3333333333333333, \"interactionType\": 1, \"questionType\": 2, \"questionId\": \"2_Q2\", \"learnToolsVersion\": \"0.3.4\", \"failureMessage\": \"\", \"exceptionClass\": \"\", \"trace\": \"\"}}, \"*\")"
      ],
      "text/plain": [
       "<IPython.core.display.Javascript object>"
      ]
     },
     "metadata": {},
     "output_type": "display_data"
    },
    {
     "data": {
      "text/markdown": [
       "<span style=\"color:#33cc33\">Correct</span>"
      ],
      "text/plain": [
       "Correct"
      ]
     },
     "metadata": {},
     "output_type": "display_data"
    }
   ],
   "source": [
    "from tensorflow import keras\n",
    "from tensorflow.keras import layers\n",
    "\n",
    "# YOUR CODE HERE\n",
    "model = keras.Sequential([\n",
    "    layers.Dense(units=1, input_shape=[11])\n",
    "])\n",
    "\n",
    "# Check your answer\n",
    "q_2.check()"
   ]
  },
  {
   "cell_type": "code",
   "execution_count": 7,
   "id": "6c564800",
   "metadata": {
    "execution": {
     "iopub.execute_input": "2022-09-30T04:41:25.758401Z",
     "iopub.status.busy": "2022-09-30T04:41:25.757449Z",
     "iopub.status.idle": "2022-09-30T04:41:25.761676Z",
     "shell.execute_reply": "2022-09-30T04:41:25.760840Z"
    },
    "papermill": {
     "duration": 0.012616,
     "end_time": "2022-09-30T04:41:25.763362",
     "exception": false,
     "start_time": "2022-09-30T04:41:25.750746",
     "status": "completed"
    },
    "tags": []
   },
   "outputs": [],
   "source": [
    "# Lines below will give you a hint or solution code\n",
    "#q_2.hint()\n",
    "#q_2.solution()"
   ]
  },
  {
   "cell_type": "markdown",
   "id": "3f945a41",
   "metadata": {
    "papermill": {
     "duration": 0.004762,
     "end_time": "2022-09-30T04:41:25.773855",
     "exception": false,
     "start_time": "2022-09-30T04:41:25.769093",
     "status": "completed"
    },
    "tags": []
   },
   "source": [
    "# 3) Look at the weights\n",
    "\n",
    "Internally, Keras represents the weights of a neural network with **tensors**. Tensors are basically TensorFlow's version of a Numpy array with a few differences that make them better suited to deep learning. One of the most important is that tensors are compatible with [GPU](https://www.kaggle.com/docs/efficient-gpu-usage) and [TPU](https://www.kaggle.com/docs/tpu)) accelerators. TPUs, in fact, are designed specifically for tensor computations.\n",
    "\n",
    "A model's weights are kept in its `weights` attribute as a list of tensors. Get the weights of the model you defined above. (If you want, you could display the weights with something like: `print(\"Weights\\n{}\\n\\nBias\\n{}\".format(w, b))`)."
   ]
  },
  {
   "cell_type": "code",
   "execution_count": 8,
   "id": "abc624a4",
   "metadata": {
    "execution": {
     "iopub.execute_input": "2022-09-30T04:41:25.785903Z",
     "iopub.status.busy": "2022-09-30T04:41:25.785342Z",
     "iopub.status.idle": "2022-09-30T04:41:25.792589Z",
     "shell.execute_reply": "2022-09-30T04:41:25.791553Z"
    },
    "lines_to_next_cell": 0,
    "papermill": {
     "duration": 0.016093,
     "end_time": "2022-09-30T04:41:25.794924",
     "exception": false,
     "start_time": "2022-09-30T04:41:25.778831",
     "status": "completed"
    },
    "tags": []
   },
   "outputs": [
    {
     "data": {
      "application/javascript": [
       "parent.postMessage({\"jupyterEvent\": \"custom.exercise_interaction\", \"data\": {\"outcomeType\": 2, \"failureMessage\": \"The weights `w` and `b` should be tensors. Your answer should be something like:\\n```python\\nw, b = model.____\\n```\\n\", \"interactionType\": 1, \"questionType\": 2, \"questionId\": \"3_Q3\", \"learnToolsVersion\": \"0.3.4\", \"valueTowardsCompletion\": 0.0, \"exceptionClass\": \"\", \"trace\": \"\"}}, \"*\")"
      ],
      "text/plain": [
       "<IPython.core.display.Javascript object>"
      ]
     },
     "metadata": {},
     "output_type": "display_data"
    },
    {
     "data": {
      "text/markdown": [
       "<span style=\"color:#cc3333\">Incorrect:</span> The weights `w` and `b` should be tensors. Your answer should be something like:\n",
       "```python\n",
       "w, b = model.____\n",
       "```\n"
      ],
      "text/plain": [
       "Incorrect: The weights `w` and `b` should be tensors. Your answer should be something like:\n",
       "```python\n",
       "w, b = model.____\n",
       "```"
      ]
     },
     "metadata": {},
     "output_type": "display_data"
    }
   ],
   "source": [
    "# YOUR CODE HERE\n",
    "w, b = 1599,12\n",
    "\n",
    "# Check your answer\n",
    "q_3.check()"
   ]
  },
  {
   "cell_type": "code",
   "execution_count": 9,
   "id": "75f8649b",
   "metadata": {
    "execution": {
     "iopub.execute_input": "2022-09-30T04:41:25.807676Z",
     "iopub.status.busy": "2022-09-30T04:41:25.807263Z",
     "iopub.status.idle": "2022-09-30T04:41:25.812742Z",
     "shell.execute_reply": "2022-09-30T04:41:25.811292Z"
    },
    "lines_to_next_cell": 0,
    "papermill": {
     "duration": 0.014993,
     "end_time": "2022-09-30T04:41:25.815367",
     "exception": false,
     "start_time": "2022-09-30T04:41:25.800374",
     "status": "completed"
    },
    "tags": []
   },
   "outputs": [],
   "source": [
    "# Lines below will give you a hint or solution code\n",
    "#q_3.hint()\n",
    "#q_3.solution()"
   ]
  },
  {
   "cell_type": "markdown",
   "id": "e8d8fad2",
   "metadata": {
    "papermill": {
     "duration": 0.004763,
     "end_time": "2022-09-30T04:41:25.825482",
     "exception": false,
     "start_time": "2022-09-30T04:41:25.820719",
     "status": "completed"
    },
    "tags": []
   },
   "source": [
    "(By the way, Keras represents weights as tensors, but also uses tensors to represent data. When you set the `input_shape` argument, you are telling Keras the dimensions of the array it should expect for each example in the training data. Setting `input_shape=[3]` would create a network accepting vectors of length 3, like `[0.2, 0.4, 0.6]`.)\n",
    " \n",
    "\n",
    "# Optional: Plot the output of an untrained linear model\n",
    " \n",
    "The kinds of problems we'll work on through Lesson 5 will be *regression* problems, where the goal is to predict some numeric target. Regression problems are like \"curve-fitting\" problems: we're trying to find a curve that best fits the data. Let's take a look at the \"curve\" produced by a linear model. (You've probably guessed that it's a line!)\n",
    " \n",
    "We mentioned that before training a model's weights are set randomly. Run the cell below a few times to see the different lines produced with a random initialization. (There's no coding for this exercise -- it's just a demonstration.)"
   ]
  },
  {
   "cell_type": "code",
   "execution_count": 10,
   "id": "0e50903a",
   "metadata": {
    "execution": {
     "iopub.execute_input": "2022-09-30T04:41:25.837383Z",
     "iopub.status.busy": "2022-09-30T04:41:25.836987Z",
     "iopub.status.idle": "2022-09-30T04:41:26.631905Z",
     "shell.execute_reply": "2022-09-30T04:41:26.630229Z"
    },
    "lines_to_next_cell": 0,
    "papermill": {
     "duration": 0.804252,
     "end_time": "2022-09-30T04:41:26.634748",
     "exception": false,
     "start_time": "2022-09-30T04:41:25.830496",
     "status": "completed"
    },
    "tags": []
   },
   "outputs": [
    {
     "name": "stderr",
     "output_type": "stream",
     "text": [
      "2022-09-30 04:41:26.178276: I tensorflow/compiler/mlir/mlir_graph_optimization_pass.cc:185] None of the MLIR Optimization Passes are enabled (registered 2)\n"
     ]
    },
    {
     "data": {
      "image/png": "[encoded data removed]",
      "text/plain": [
       "<Figure size 600x400 with 1 Axes>"
      ]
     },
     "metadata": {},
     "output_type": "display_data"
    }
   ],
   "source": [
    "import tensorflow as tf\n",
    "import matplotlib.pyplot as plt\n",
    "\n",
    "model = keras.Sequential([\n",
    "    layers.Dense(1, input_shape=[1]),\n",
    "])\n",
    "\n",
    "x = tf.linspace(-1.0, 1.0, 100)\n",
    "y = model.predict(x)\n",
    "\n",
    "plt.figure(dpi=100)\n",
    "plt.plot(x, y, 'k')\n",
    "plt.xlim(-1, 1)\n",
    "plt.ylim(-1, 1)\n",
    "plt.xlabel(\"Input: x\")\n",
    "plt.ylabel(\"Target y\")\n",
    "w, b = model.weights # you could also use model.get_weights() here\n",
    "plt.title(\"Weight: {:0.2f}\\nBias: {:0.2f}\".format(w[0][0], b[0]))\n",
    "plt.show()"
   ]
  },
  {
   "cell_type": "markdown",
   "id": "cf2af61a",
   "metadata": {
    "papermill": {
     "duration": 0.007022,
     "end_time": "2022-09-30T04:41:26.647943",
     "exception": false,
     "start_time": "2022-09-30T04:41:26.640921",
     "status": "completed"
    },
    "tags": []
   },
   "source": [
    "# Keep Going #\n",
    "\n",
    "Add hidden layers and [**make your models deep**](https://www.kaggle.com/ryanholbrook/deep-neural-networks) in Lesson 2."
   ]
  },
  {
   "cell_type": "markdown",
   "id": "1ce7861b",
   "metadata": {
    "papermill": {
     "duration": 0.006299,
     "end_time": "2022-09-30T04:41:26.661573",
     "exception": false,
     "start_time": "2022-09-30T04:41:26.655274",
     "status": "completed"
    },
    "tags": []
   },
   "source": [
    "---\n",
    "\n",
    "\n",
    "\n",
    "\n",
    "*Have questions or comments? Visit the [course discussion forum](https://www.kaggle.com/learn/intro-to-deep-learning/discussion) to chat with other learners.*"
   ]
  }
 ],
 "metadata": {
  "kernelspec": {
   "display_name": "Python 3",
   "language": "python",
   "name": "python3"
  },
  "language_info": {
   "codemirror_mode": {
    "name": "ipython",
    "version": 3
   },
   "file_extension": ".py",
   "mimetype": "text/x-python",
   "name": "python",
   "nbconvert_exporter": "python",
   "pygments_lexer": "ipython3",
   "version": "3.7.12"
  },
  "papermill": {
   "default_parameters": {},
   "duration": 21.101215,
   "end_time": "2022-09-30T04:41:29.601526",
   "environment_variables": {},
   "exception": null,
   "input_path": "__notebook__.ipynb",
   "output_path": "__notebook__.ipynb",
   "parameters": {},
   "start_time": "2022-09-30T04:41:08.500311",
   "version": "2.3.4"
  }
 },
 "nbformat": 4,
 "nbformat_minor": 5
}
